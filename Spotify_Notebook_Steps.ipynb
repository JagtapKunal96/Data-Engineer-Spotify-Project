{
 "cells": [
  {
   "cell_type": "code",
   "execution_count": 2,
   "id": "18ca2695",
   "metadata": {},
   "outputs": [],
   "source": [
    "import spotipy\n",
    "from spotipy.oauth2 import SpotifyClientCredentials\n",
    "import pandas as pd"
   ]
  },
  {
   "cell_type": "code",
   "execution_count": 3,
   "id": "e97cbea7",
   "metadata": {},
   "outputs": [],
   "source": [
    "client_credentials_manager=SpotifyClientCredentials(client_id = 'Add Clinet id',client_secret = 'Add Secret Key')"
   ]
  },
  {
   "cell_type": "code",
   "execution_count": 4,
   "id": "7206f1f3",
   "metadata": {},
   "outputs": [],
   "source": [
    "sp = spotipy.Spotify(client_credentials_manager = client_credentials_manager)"
   ]
  },
  {
   "cell_type": "code",
   "execution_count": 5,
   "id": "1d53d043",
   "metadata": {},
   "outputs": [],
   "source": [
    "playListLink = \"https://open.spotify.com/playlist/4hOKQuZbraPDIfaGbM3lKI\""
   ]
  },
  {
   "cell_type": "code",
   "execution_count": 6,
   "id": "b721c798",
   "metadata": {},
   "outputs": [],
   "source": [
    "playListUri = playListLink.split('/')[-1]"
   ]
  },
  {
   "cell_type": "code",
   "execution_count": 7,
   "id": "a07cc89d",
   "metadata": {},
   "outputs": [],
   "source": [
    "Data = sp.playlist_tracks(playListUri)"
   ]
  },
  {
   "cell_type": "code",
   "execution_count": 8,
   "id": "764a9c61",
   "metadata": {},
   "outputs": [
    {
     "data": {
      "text/plain": [
       "'3smvpv7CdrhVcGYaNDLOqn'"
      ]
     },
     "execution_count": 8,
     "metadata": {},
     "output_type": "execute_result"
    }
   ],
   "source": [
    " Data['items'][0]['track']['album']['id'] \n",
    "    #[0]['track']['album']['id'] ['name'] ['release_date']['total_tracks']['external_urls']'spotify'"
   ]
  },
  {
   "cell_type": "code",
   "execution_count": 9,
   "id": "9ab138ac",
   "metadata": {},
   "outputs": [
    {
     "data": {
      "text/plain": [
       "'Despacito Feat. Justin Bieber (Remix)'"
      ]
     },
     "execution_count": 9,
     "metadata": {},
     "output_type": "execute_result"
    }
   ],
   "source": [
    "Data['items'][0]['track']['album']['name'] "
   ]
  },
  {
   "cell_type": "code",
   "execution_count": 10,
   "id": "1b314583",
   "metadata": {},
   "outputs": [
    {
     "data": {
      "text/plain": [
       "'2017-04-17'"
      ]
     },
     "execution_count": 10,
     "metadata": {},
     "output_type": "execute_result"
    }
   ],
   "source": [
    "Data['items'][0]['track']['album']['release_date']"
   ]
  },
  {
   "cell_type": "code",
   "execution_count": 66,
   "id": "9e426cc9",
   "metadata": {},
   "outputs": [
    {
     "data": {
      "text/plain": [
       "1"
      ]
     },
     "execution_count": 66,
     "metadata": {},
     "output_type": "execute_result"
    }
   ],
   "source": [
    "Data['items'][0]['track']['album']['total_tracks']"
   ]
  },
  {
   "cell_type": "code",
   "execution_count": 69,
   "id": "e0211420",
   "metadata": {},
   "outputs": [
    {
     "data": {
      "text/plain": [
       "'https://open.spotify.com/album/3smvpv7CdrhVcGYaNDLOqn'"
      ]
     },
     "execution_count": 69,
     "metadata": {},
     "output_type": "execute_result"
    }
   ],
   "source": [
    "Data['items'][0]['track']['album']['external_urls']['spotify']"
   ]
  },
  {
   "cell_type": "code",
   "execution_count": 11,
   "id": "51873d59",
   "metadata": {},
   "outputs": [],
   "source": [
    "# craete album list using disc data type and use as a table \n",
    "album_list = []\n",
    "for i in Data['items']:\n",
    "    album_id = i['track']['album']['id'] \n",
    "    album_name = i['track']['album']['name'] \n",
    "    album_release_date = i['track']['album']['release_date']\n",
    "    album_total_tracks = i['track']['album']['total_tracks']\n",
    "    album_external_urls = i['track']['album']['external_urls']['spotify']\n",
    "    album_element = {'album_id': album_id,'album_name':album_name,'album_release_date':album_release_date,\n",
    "                     'album_total_tracks':album_total_tracks,'album_external_urls':album_external_urls }\n",
    "    \n",
    "    album_list.append(album_element)\n",
    "   \n",
    "#     print(album_element)"
   ]
  },
  {
   "cell_type": "code",
   "execution_count": 12,
   "id": "cdaddaec",
   "metadata": {},
   "outputs": [
    {
     "data": {
      "text/plain": [
       "list"
      ]
     },
     "execution_count": 12,
     "metadata": {},
     "output_type": "execute_result"
    }
   ],
   "source": [
    "type(album_list)"
   ]
  },
  {
   "cell_type": "code",
   "execution_count": 13,
   "id": "74716687",
   "metadata": {},
   "outputs": [],
   "source": [
    "# create artist list table using pd \n",
    "\n",
    "# Data['items'][0]['track']['artists']\n",
    "artist_list =[]\n",
    "for i in Data['items']:\n",
    "    for key,value in i.items():\n",
    "        if key == 'track':\n",
    "            for j in value['artists']:\n",
    "                artist_dict = {'artist_id':j['id'], 'artist_name':j['name'], 'external_url': j['href']}\n",
    "                artist_list.append(artist_dict)\n",
    "              "
   ]
  },
  {
   "cell_type": "code",
   "execution_count": 37,
   "id": "febec7c2",
   "metadata": {},
   "outputs": [
    {
     "data": {
      "text/plain": [
       "list"
      ]
     },
     "execution_count": 37,
     "metadata": {},
     "output_type": "execute_result"
    }
   ],
   "source": [
    "type(artist_list)"
   ]
  },
  {
   "cell_type": "code",
   "execution_count": 14,
   "id": "bf2d6eb9",
   "metadata": {},
   "outputs": [],
   "source": [
    "# create song list thows avalible in album\n",
    "song_list = []\n",
    "for row in Data['items']:\n",
    "    song_id = row['track']['id']\n",
    "    song_name = row['track']['name']\n",
    "    song_duration = row['track']['duration_ms']\n",
    "    song_url = row['track']['external_urls']['spotify']\n",
    "    song_popularity = row['track']['popularity']\n",
    "    song_added = row['added_at']\n",
    "    album_id = row['track']['album']['id']\n",
    "    artist_id = row['track']['album']['artists'][0]['id']\n",
    "    song_element = {'song_id':song_id,'song_name':song_name,'duration_ms':song_duration,'url':song_url,\n",
    "                    'popularity':song_popularity,'song_added':song_added,'album_id':album_id,\n",
    "                    'artist_id':artist_id\n",
    "                   }\n",
    "    song_list.append(song_element)"
   ]
  },
  {
   "cell_type": "code",
   "execution_count": 44,
   "id": "5675b05f",
   "metadata": {},
   "outputs": [
    {
     "data": {
      "text/plain": [
       "list"
      ]
     },
     "execution_count": 44,
     "metadata": {},
     "output_type": "execute_result"
    }
   ],
   "source": [
    "type(song_list)"
   ]
  },
  {
   "cell_type": "code",
   "execution_count": null,
   "id": "da52c32e",
   "metadata": {},
   "outputs": [],
   "source": [
    "# song_list  artist_list album_list"
   ]
  },
  {
   "cell_type": "code",
   "execution_count": 28,
   "id": "6826e136",
   "metadata": {},
   "outputs": [],
   "source": [
    "album_df = pd.DataFrame(album_list)"
   ]
  },
  {
   "cell_type": "code",
   "execution_count": 137,
   "id": "5be6566f",
   "metadata": {},
   "outputs": [],
   "source": [
    "# album_df.head()\n",
    "# album_df.drop([20,67],axis = 0,inplace=True)\n",
    "\n",
    "# album_df.head(25)\n",
    "# album_df['album_release_date'] = pd.to_datetime(album_df['album_release_date'])\n"
   ]
  },
  {
   "cell_type": "code",
   "execution_count": 29,
   "id": "09767504",
   "metadata": {},
   "outputs": [],
   "source": [
    "# album_df['album_release_date'] = pd.to_datetime(album_df['album_release_date'])\n",
    "# album_df.reset_index()\n",
    "\n",
    "try:\n",
    "    album_df['album_release_date'] = pd.to_datetime(album_df['album_release_date'])\n",
    "except ValueError:\n",
    "    pass"
   ]
  },
  {
   "cell_type": "code",
   "execution_count": 30,
   "id": "2d24fd82",
   "metadata": {},
   "outputs": [
    {
     "name": "stdout",
     "output_type": "stream",
     "text": [
      "<class 'pandas.core.frame.DataFrame'>\n",
      "RangeIndex: 100 entries, 0 to 99\n",
      "Data columns (total 5 columns):\n",
      " #   Column               Non-Null Count  Dtype \n",
      "---  ------               --------------  ----- \n",
      " 0   album_id             100 non-null    object\n",
      " 1   album_name           100 non-null    object\n",
      " 2   album_release_date   100 non-null    object\n",
      " 3   album_total_tracks   100 non-null    int64 \n",
      " 4   album_external_urls  100 non-null    object\n",
      "dtypes: int64(1), object(4)\n",
      "memory usage: 4.0+ KB\n"
     ]
    }
   ],
   "source": [
    "# album_df.reset_index(inplace=True)\n",
    "# album_df.head(25)\n",
    "album_df.info()"
   ]
  },
  {
   "cell_type": "code",
   "execution_count": 132,
   "id": "2fe828de",
   "metadata": {},
   "outputs": [],
   "source": [
    "album_df = album_df.drop_duplicates(subset=['album_id'])"
   ]
  },
  {
   "cell_type": "code",
   "execution_count": null,
   "id": "09c82384",
   "metadata": {},
   "outputs": [],
   "source": []
  },
  {
   "cell_type": "code",
   "execution_count": 61,
   "id": "fb7e8b56",
   "metadata": {},
   "outputs": [
    {
     "data": {
      "text/plain": [
       "86"
      ]
     },
     "execution_count": 61,
     "metadata": {},
     "output_type": "execute_result"
    }
   ],
   "source": [
    "len(album_df)"
   ]
  },
  {
   "cell_type": "code",
   "execution_count": 73,
   "id": "1191b2ae",
   "metadata": {},
   "outputs": [
    {
     "data": {
      "text/html": [
       "<div>\n",
       "<style scoped>\n",
       "    .dataframe tbody tr th:only-of-type {\n",
       "        vertical-align: middle;\n",
       "    }\n",
       "\n",
       "    .dataframe tbody tr th {\n",
       "        vertical-align: top;\n",
       "    }\n",
       "\n",
       "    .dataframe thead th {\n",
       "        text-align: right;\n",
       "    }\n",
       "</style>\n",
       "<table border=\"1\" class=\"dataframe\">\n",
       "  <thead>\n",
       "    <tr style=\"text-align: right;\">\n",
       "      <th></th>\n",
       "      <th>artist_id</th>\n",
       "      <th>artist_name</th>\n",
       "      <th>external_url</th>\n",
       "    </tr>\n",
       "  </thead>\n",
       "  <tbody>\n",
       "    <tr>\n",
       "      <th>0</th>\n",
       "      <td>4V8Sr092TqfHkfAA5fXXqG</td>\n",
       "      <td>Luis Fonsi</td>\n",
       "      <td>https://api.spotify.com/v1/artists/4V8Sr092Tqf...</td>\n",
       "    </tr>\n",
       "    <tr>\n",
       "      <th>1</th>\n",
       "      <td>4VMYDCV2IEDYJArk749S6m</td>\n",
       "      <td>Daddy Yankee</td>\n",
       "      <td>https://api.spotify.com/v1/artists/4VMYDCV2IED...</td>\n",
       "    </tr>\n",
       "    <tr>\n",
       "      <th>2</th>\n",
       "      <td>1uNFoZAHBGtllmzznpCI3s</td>\n",
       "      <td>Justin Bieber</td>\n",
       "      <td>https://api.spotify.com/v1/artists/1uNFoZAHBGt...</td>\n",
       "    </tr>\n",
       "    <tr>\n",
       "      <th>3</th>\n",
       "      <td>0QHgL1lAIqAw0HtD7YldmP</td>\n",
       "      <td>DJ Khaled</td>\n",
       "      <td>https://api.spotify.com/v1/artists/0QHgL1lAIqA...</td>\n",
       "    </tr>\n",
       "    <tr>\n",
       "      <th>5</th>\n",
       "      <td>0VRj0yCOv2FXJNP47XQnx5</td>\n",
       "      <td>Quavo</td>\n",
       "      <td>https://api.spotify.com/v1/artists/0VRj0yCOv2F...</td>\n",
       "    </tr>\n",
       "  </tbody>\n",
       "</table>\n",
       "</div>"
      ],
      "text/plain": [
       "                artist_id    artist_name  \\\n",
       "0  4V8Sr092TqfHkfAA5fXXqG     Luis Fonsi   \n",
       "1  4VMYDCV2IEDYJArk749S6m   Daddy Yankee   \n",
       "2  1uNFoZAHBGtllmzznpCI3s  Justin Bieber   \n",
       "3  0QHgL1lAIqAw0HtD7YldmP      DJ Khaled   \n",
       "5  0VRj0yCOv2FXJNP47XQnx5          Quavo   \n",
       "\n",
       "                                        external_url  \n",
       "0  https://api.spotify.com/v1/artists/4V8Sr092Tqf...  \n",
       "1  https://api.spotify.com/v1/artists/4VMYDCV2IED...  \n",
       "2  https://api.spotify.com/v1/artists/1uNFoZAHBGt...  \n",
       "3  https://api.spotify.com/v1/artists/0QHgL1lAIqA...  \n",
       "5  https://api.spotify.com/v1/artists/0VRj0yCOv2F...  "
      ]
     },
     "execution_count": 73,
     "metadata": {},
     "output_type": "execute_result"
    }
   ],
   "source": [
    "artist_df = pd.DataFrame(artist_list).drop_duplicates(subset=['artist_id'])\n",
    "artist_df.head()\n"
   ]
  },
  {
   "cell_type": "code",
   "execution_count": 72,
   "id": "6d59b5a9",
   "metadata": {},
   "outputs": [
    {
     "name": "stdout",
     "output_type": "stream",
     "text": [
      "<class 'pandas.core.frame.DataFrame'>\n",
      "RangeIndex: 100 entries, 0 to 99\n",
      "Data columns (total 8 columns):\n",
      " #   Column       Non-Null Count  Dtype              \n",
      "---  ------       --------------  -----              \n",
      " 0   song_id      100 non-null    object             \n",
      " 1   song_name    100 non-null    object             \n",
      " 2   duration_ms  100 non-null    int64              \n",
      " 3   url          100 non-null    object             \n",
      " 4   popularity   100 non-null    int64              \n",
      " 5   song_added   100 non-null    datetime64[ns, UTC]\n",
      " 6   album_id     100 non-null    object             \n",
      " 7   artist_id    100 non-null    object             \n",
      "dtypes: datetime64[ns, UTC](1), int64(2), object(5)\n",
      "memory usage: 6.4+ KB\n"
     ]
    }
   ],
   "source": [
    "song_df = pd.DataFrame(song_list)\n",
    "\n",
    "song_df['song_added'] = pd.to_datetime(song_df['song_added'])\n",
    "song_df.info()"
   ]
  }
 ],
 "metadata": {
  "kernelspec": {
   "display_name": "Python 3 (ipykernel)",
   "language": "python",
   "name": "python3"
  },
  "language_info": {
   "codemirror_mode": {
    "name": "ipython",
    "version": 3
   },
   "file_extension": ".py",
   "mimetype": "text/x-python",
   "name": "python",
   "nbconvert_exporter": "python",
   "pygments_lexer": "ipython3",
   "version": "3.8.10"
  }
 },
 "nbformat": 4,
 "nbformat_minor": 5
}
